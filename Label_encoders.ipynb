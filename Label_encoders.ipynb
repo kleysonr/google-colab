{
  "nbformat": 4,
  "nbformat_minor": 0,
  "metadata": {
    "colab": {
      "name": "Label encoders.ipynb",
      "version": "0.3.2",
      "provenance": [],
      "private_outputs": true,
      "collapsed_sections": [],
      "include_colab_link": true
    },
    "kernelspec": {
      "name": "python3",
      "display_name": "Python 3"
    }
  },
  "cells": [
    {
      "cell_type": "markdown",
      "metadata": {
        "id": "view-in-github",
        "colab_type": "text"
      },
      "source": [
        "<a href=\"https://colab.research.google.com/github/kleysonr/google-colab/blob/deeplearning/Label_encoders.ipynb\" target=\"_parent\"><img src=\"https://colab.research.google.com/assets/colab-badge.svg\" alt=\"Open In Colab\"/></a>"
      ]
    },
    {
      "metadata": {
        "id": "CDJf1OQ4UkNc",
        "colab_type": "code",
        "colab": {}
      },
      "cell_type": "code",
      "source": [
        "# Classes to be encoded in numeric arrays\n",
        "classes = ['yes','no','maybe','no','yes']"
      ],
      "execution_count": 0,
      "outputs": []
    },
    {
      "metadata": {
        "id": "0KYi1WzBUzoc",
        "colab_type": "code",
        "colab": {}
      },
      "cell_type": "code",
      "source": [
        "from sklearn.preprocessing import LabelEncoder\n",
        "\n",
        "# LabelEncoder will generate an array where the class name is replaced by a given number that represent uniquely a given class.\n",
        "le = LabelEncoder()\n",
        "labels = le.fit_transform(classes)\n",
        "\n",
        "print(classes)\n",
        "print(labels)"
      ],
      "execution_count": 0,
      "outputs": []
    },
    {
      "metadata": {
        "id": "kvWqD2L-U1iq",
        "colab_type": "code",
        "colab": {}
      },
      "cell_type": "code",
      "source": [
        "from sklearn.preprocessing import LabelBinarizer\n",
        "\n",
        "# LabelBinarizer will generate an One-hot enconding matrix.\n",
        "# One hot encoding transforms categorical features to a format that works with some classification and regression algorithms.\n",
        "# The algorithm will generate one boolean column for each category. Only one of these columns could take on the value 1 for each sample, representing the class.\n",
        "# Hence, the term one hot encoding.\n",
        "\n",
        "lb = LabelBinarizer()\n",
        "labels = lb.fit_transform(classes)\n",
        "\n",
        "print(classes)\n",
        "print(labels)"
      ],
      "execution_count": 0,
      "outputs": []
    },
    {
      "metadata": {
        "id": "7eRkpoJJU8Va",
        "colab_type": "code",
        "colab": {}
      },
      "cell_type": "code",
      "source": [
        "from sklearn.preprocessing import LabelEncoder\n",
        "from keras.utils import np_utils\n",
        "import numpy as np\n",
        "\n",
        "# One hot encoding using Keras\n",
        "\n",
        "_classes = np.array(classes)\n",
        "size = np.unique(_classes).size\n",
        "\n",
        "le = LabelEncoder().fit(classes)\n",
        "labels = np_utils.to_categorical(le.transform(classes), size)\n",
        "\n",
        "print(classes)\n",
        "print(labels)"
      ],
      "execution_count": 0,
      "outputs": []
    }
  ]
}